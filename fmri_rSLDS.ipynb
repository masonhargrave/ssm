{
 "cells": [
  {
   "cell_type": "markdown",
   "metadata": {},
   "source": [
    "## Switching Linear Dynamical Systems fMRI Demo"
   ]
  },
  {
   "cell_type": "code",
   "execution_count": null,
   "metadata": {},
   "outputs": [],
   "source": [
    "import os\n",
    "import pickle\n",
    "import copy\n",
    "\n",
    "import autograd.numpy as np\n",
    "import autograd.numpy.random as npr\n",
    "npr.seed(12345)\n",
    "\n",
    "import matplotlib.pyplot as plt\n",
    "from matplotlib import gridspec\n",
    "from matplotlib.colors import ListedColormap\n",
    "%matplotlib inline\n",
    "\n",
    "import seaborn as sns\n",
    "color_names = [\"windows blue\", \"red\", \"amber\", \"faded green\"]\n",
    "colors = sns.xkcd_palette(color_names)\n",
    "sns.set_style(\"white\")\n",
    "sns.set_context(\"talk\")\n",
    "\n",
    "cmap = ListedColormap(colors)\n",
    "\n",
    "import ssm\n",
    "from ssm.util import random_rotation, find_permutation\n",
    "\n",
    "import scipy.io\n",
    "import scipy.stats\n",
    "\n",
    "# Helper functions for plotting results\n",
    "def plot_trajectory(z, x, ax=None, ls=\"-\"):\n",
    "    zcps = np.concatenate(([0], np.where(np.diff(z))[0] + 1, [z.size]))\n",
    "    if ax is None:\n",
    "        fig = plt.figure(figsize=(4, 4))\n",
    "        ax = fig.gca()\n",
    "    for start, stop in zip(zcps[:-1], zcps[1:]):\n",
    "        ax.plot(x[start:stop + 1, 0],\n",
    "                x[start:stop + 1, 1],\n",
    "                lw=1, ls=ls,\n",
    "                color=colors[z[start] % len(colors)],\n",
    "                alpha=1.0)\n",
    "    return ax\n",
    "\n",
    "def plot_observations(z, y, ax=None, ls=\"-\", lw=1):\n",
    "\n",
    "    zcps = np.concatenate(([0], np.where(np.diff(z))[0] + 1, [z.size]))\n",
    "    if ax is None:\n",
    "        fig = plt.figure(figsize=(4, 4))\n",
    "        ax = fig.gca()\n",
    "    T, N = y.shape\n",
    "    t = np.arange(T)\n",
    "    for n in range(N):\n",
    "        for start, stop in zip(zcps[:-1], zcps[1:]):\n",
    "            ax.plot(t[start:stop + 1], y[start:stop + 1, n],\n",
    "                    lw=lw, ls=ls,\n",
    "                    color=colors[z[start] % len(colors)],\n",
    "                    alpha=1.0)\n",
    "    return ax\n",
    "\n",
    "\n",
    "def plot_most_likely_dynamics(model,\n",
    "    xlim=(-4, 4), ylim=(-3, 3), nxpts=20, nypts=20,\n",
    "    alpha=0.8, ax=None, figsize=(3, 3)):\n",
    "    \n",
    "    K = model.K\n",
    "    assert model.D == 2\n",
    "    x = np.linspace(*xlim, nxpts)\n",
    "    y = np.linspace(*ylim, nypts)\n",
    "    X, Y = np.meshgrid(x, y)\n",
    "    xy = np.column_stack((X.ravel(), Y.ravel()))\n",
    "\n",
    "    # Get the probability of each state at each xy location\n",
    "    z = np.argmax(xy.dot(model.transitions.Rs.T) + model.transitions.r, axis=1)\n",
    "\n",
    "    if ax is None:\n",
    "        fig = plt.figure(figsize=figsize)\n",
    "        ax = fig.add_subplot(111)\n",
    "\n",
    "    for k, (A, b) in enumerate(zip(model.dynamics.As, model.dynamics.bs)):\n",
    "        dxydt_m = xy.dot(A.T) + b - xy\n",
    "\n",
    "        zk = z == k\n",
    "        if zk.sum(0) > 0:\n",
    "            ax.quiver(xy[zk, 0], xy[zk, 1],\n",
    "                      dxydt_m[zk, 0], dxydt_m[zk, 1],\n",
    "                      color=colors[k % len(colors)], alpha=alpha)\n",
    "\n",
    "    ax.set_xlabel('$x_1$')\n",
    "    ax.set_ylabel('$x_2$')\n",
    "\n",
    "    plt.tight_layout()\n",
    "\n",
    "    return ax"
   ]
  },
  {
   "cell_type": "code",
   "execution_count": null,
   "metadata": {},
   "outputs": [],
   "source": [
    "# Import fMRI data\n",
    "mat = scipy.io.loadmat('data/logan_tmsPredict_aug2019.mat')\n",
    "data = mat['logan_timeSeries_roi25']"
   ]
  },
  {
   "cell_type": "code",
   "execution_count": null,
   "metadata": {},
   "outputs": [],
   "source": [
    "data.shape"
   ]
  },
  {
   "cell_type": "code",
   "execution_count": null,
   "metadata": {},
   "outputs": [],
   "source": [
    "y = data[:,:,0]"
   ]
  },
  {
   "cell_type": "code",
   "execution_count": null,
   "metadata": {},
   "outputs": [],
   "source": [
    "# Global parameters\n",
    "T = data.shape[0]\n",
    "K = 5\n",
    "D_obs = data.shape[1]\n",
    "D_latent = 2\n",
    "n_scans = data.shape[2]"
   ]
  },
  {
   "cell_type": "code",
   "execution_count": null,
   "metadata": {},
   "outputs": [],
   "source": [
    "# Fit an rSLDS with its default initialization, using Laplace-EM with a structured variational posterior\n",
    "\n",
    "rslds = ssm.SLDS(D_obs, K, D_latent,\n",
    "             transitions=\"recurrent_only\",\n",
    "             dynamics=\"diagonal_gaussian\",\n",
    "             emissions=\"gaussian_orthog\",\n",
    "             single_subspace=True)\n",
    "rslds.initialize(y)\n",
    "q_elbos_lem, q_lem = rslds.fit(y, method=\"laplace_em\",\n",
    "                               variational_posterior=\"structured_meanfield\",\n",
    "                               initialize=False, num_iters=3, alpha=0.0)\n",
    "xhat_lem = q_lem.mean_continuous_states[0]\n",
    "zhat_lem = rslds.most_likely_states(xhat_lem, y)\n",
    "\n",
    "# store rslds\n",
    "rslds_lem = copy.deepcopy(rslds)"
   ]
  },
  {
   "cell_type": "code",
   "execution_count": null,
   "metadata": {},
   "outputs": [],
   "source": [
    "# Plot the ELBOs\n",
    "\n",
    "q_elbos_lem\n",
    "plt.plot(q_elbos_lem, label=\"Laplace-EM: Structured Variational Posterior\")\n",
    "plt.xlabel(\"Iteration\")\n",
    "plt.ylabel(\"ELBO\")\n",
    "plt.legend(bbox_to_anchor=(1.0,1.0))\n",
    "plt.title(\"Convergence for learning an SLDS\")\n",
    "plt.show()"
   ]
  },
  {
   "cell_type": "code",
   "execution_count": null,
   "metadata": {},
   "outputs": [],
   "source": [
    "plt.figure()\n",
    "ax = plt.subplot()\n",
    "plot_trajectory(zhat_lem, xhat_lem, ax=ax)\n",
    "plt.title(\"Inferred, Laplace-EM\")\n",
    "plt.tight_layout()"
   ]
  },
  {
   "cell_type": "code",
   "execution_count": null,
   "metadata": {},
   "outputs": [],
   "source": [
    "plt.figure(figsize=(6,4))\n",
    "ax = plt.subplot(111)\n",
    "lim = abs(xhat_lem).max(axis=0) + 1\n",
    "plot_most_likely_dynamics(rslds_lem, xlim=(-lim[0], lim[0]), ylim=(-lim[1], lim[1]), ax=ax)\n",
    "plt.title(\"Inferred Dynamics, Laplace-EM\")"
   ]
  },
  {
   "cell_type": "code",
   "execution_count": null,
   "metadata": {},
   "outputs": [],
   "source": [
    "plt.figure(figsize=(12,2))\n",
    "plt.imshow(zhat_lem[None,:], aspect='auto', cmap=cmap)\n",
    "plt.title('fMRI Inferred States')\n",
    "plt.xlabel('Frames')\n",
    "ax = plt.gca()\n",
    "ax.set_yticks([])\n",
    "plt.savefig('scan_%i' % (i))\n",
    "plt.show()"
   ]
  },
  {
   "cell_type": "code",
   "execution_count": null,
   "metadata": {},
   "outputs": [],
   "source": [
    "A = rslds.dynamics.As\n",
    "b = rslds.dynamics.bs\n",
    "cov = rslds.dynamics.Sigmas\n",
    "n_gen = 1\n",
    "n_val_frames = y.shape[0]\n",
    "\n",
    "mse = np.zeros(n_gen)\n",
    "mae = np.zeros(n_gen)\n",
    "\n",
    "for j in range(n_gen):\n",
    "    x = [xhat_lem[0]]\n",
    "    \n",
    "    for i in range(n_val_frames-1):\n",
    "        k = zhat_lem[i]\n",
    "        w = np.random.multivariate_normal(np.zeros(D_latent), cov[k])\n",
    "        x_i = A[k]@x[-1] + b[k] + w\n",
    "        x.append(x_i)\n",
    "    \n",
    "    x_gen = np.vstack(x)\n",
    "    mse[j] = np.mean((xhat_lem - x_gen)**2)\n",
    "    mae[j] = np.mean(np.abs(xhat_lem - x_gen))"
   ]
  },
  {
   "cell_type": "code",
   "execution_count": null,
   "metadata": {},
   "outputs": [],
   "source": [
    "print(mse)"
   ]
  },
  {
   "cell_type": "code",
   "execution_count": null,
   "metadata": {
    "scrolled": true
   },
   "outputs": [],
   "source": [
    "title_str = [\"$x_{%i}$\" %i for i in range(D_latent)]\n",
    "fig, axs = plt.subplots(D_latent, 1, figsize=(14,2*D_latent))\n",
    "for (d, ax) in enumerate(axs):\n",
    "    ax.plot(x_gen[:,d] + 4 * d, '-', color=colors[0], label=\"Generated\" if d==0 else None)\n",
    "    ax.plot(xhat_lem[:,d] + 4 * d, '-', color=colors[2], label=\"Estimated\" if d==0 else None)\n",
    "    ax.set_yticks([])\n",
    "    ax.set_title(title_str[d], loc=\"left\", y=0.5, x=-0.03)\n",
    "axs[0].set_xticks([])\n",
    "axs[0].legend(loc=\"upper right\")\n",
    "\n",
    "plt.suptitle(\"Generated and Estimated Continuous States\", va=\"bottom\")\n",
    "plt.tight_layout()"
   ]
  },
  {
   "cell_type": "code",
   "execution_count": null,
   "metadata": {},
   "outputs": [],
   "source": [
    "A = rslds.dynamics.As\n",
    "b = rslds.dynamics.bs\n",
    "cov = rslds.dynamics.Sigmas\n",
    "n_gen = 1\n",
    "n_val_frames = y.shape[0]\n",
    "\n",
    "mse = np.zeros(n_gen)\n",
    "mae = np.zeros(n_gen)\n",
    "\n",
    "for j in range(n_gen):\n",
    "    x = [xhat_lem[0]]\n",
    "    \n",
    "    for i in range(n_val_frames-1):\n",
    "        k = zhat_lem[i]\n",
    "        x_i = A[k]@x[-1] + b[k]\n",
    "        x.append(x_i)\n",
    "    \n",
    "    x_gen = np.vstack(x)\n",
    "    mse[j] = np.mean((xhat_lem - x_gen)**2)\n",
    "    mae[j] = np.mean(np.abs(xhat_lem - x_gen))"
   ]
  },
  {
   "cell_type": "code",
   "execution_count": null,
   "metadata": {},
   "outputs": [],
   "source": [
    "print(mse)"
   ]
  },
  {
   "cell_type": "code",
   "execution_count": null,
   "metadata": {},
   "outputs": [],
   "source": [
    "title_str = [\"$x_{%i}$\" %i for i in range(D_latent)]\n",
    "fig, axs = plt.subplots(D_latent, 1, figsize=(14,2*D_latent))\n",
    "for (d, ax) in enumerate(axs):\n",
    "    ax.plot(x_gen[:,d] + 4 * d, '-', color=colors[0], label=\"Generated\" if d==0 else None)\n",
    "    ax.plot(xhat_lem[:,d] + 4 * d, '-', color=colors[2], label=\"Estimated\" if d==0 else None)\n",
    "    ax.set_yticks([])\n",
    "    ax.set_title(title_str[d], loc=\"left\", y=0.5, x=-0.03)\n",
    "axs[0].set_xticks([])\n",
    "axs[0].legend(loc=\"upper right\")\n",
    "\n",
    "plt.suptitle(\"Generated and Estimated Continuous States\", va=\"bottom\")\n",
    "plt.tight_layout()"
   ]
  },
  {
   "cell_type": "code",
   "execution_count": null,
   "metadata": {},
   "outputs": [],
   "source": [
    "# Global parameters\n",
    "T = data.shape[0]\n",
    "K = 5\n",
    "D_obs = data.shape[1]\n",
    "D_latent = 24\n",
    "n_scans = data.shape[2]"
   ]
  },
  {
   "cell_type": "code",
   "execution_count": null,
   "metadata": {},
   "outputs": [],
   "source": [
    "# Fit an rSLDS with its default initialization, using Laplace-EM with a structured variational posterior\n",
    "states=[]\n",
    "As = []\n",
    "bs = []\n",
    "covs = []\n",
    "elbos = []\n",
    "\n",
    "for i in range(n_scans):\n",
    "    rslds = ssm.SLDS(D_obs, K, D_latent,\n",
    "                 transitions=\"recurrent_only\",\n",
    "                 dynamics=\"diagonal_gaussian\",\n",
    "                 emissions=\"gaussian_orthog\",\n",
    "                 single_subspace=True)\n",
    "    rslds.initialize(data[:,:,i])\n",
    "    q_elbos_lem, q_lem = rslds.fit(data[:,:,i], method=\"laplace_em\",\n",
    "                                   variational_posterior=\"structured_meanfield\",\n",
    "                                   initialize=False, num_iters=3, alpha=0.0)\n",
    "    xhat_lem = q_lem.mean_continuous_states[0]\n",
    "    zhat_lem = rslds.most_likely_states(xhat_lem, data[:,:,i])\n",
    "\n",
    "    # store rslds\n",
    "    rslds_lem = copy.deepcopy(rslds)\n",
    "    \n",
    "    As.append(rslds.dynamics.As)\n",
    "    bs.append(rslds.dynamics.bs)\n",
    "    covs.append(rslds.dynamics.Sigmas)\n",
    "    states.append(zhat_lem)\n",
    "    elbos.append(q_elbos_lem)"
   ]
  },
  {
   "cell_type": "code",
   "execution_count": null,
   "metadata": {},
   "outputs": [],
   "source": [
    "# Plot the ELBOs\n",
    "\n",
    "q_elbos_lem\n",
    "plt.plot(q_elbos_lem, label=\"Laplace-EM: Structured Variational Posterior\")\n",
    "plt.xlabel(\"Iteration\")\n",
    "plt.ylabel(\"ELBO\")\n",
    "plt.legend(bbox_to_anchor=(1.0,1.0))\n",
    "plt.title(\"Convergence for learning an SLDS\")\n",
    "plt.show()"
   ]
  },
  {
   "cell_type": "code",
   "execution_count": null,
   "metadata": {},
   "outputs": [],
   "source": [
    "# Find Eigenvalues and Eigenvevtors of the matrices\n",
    "\n",
    "eig = [np.linalg.eig(As[i]) for i in range(n_scans)]\n",
    "e_vals = [eig[i][0] for i in range(n_scans)]\n",
    "e_vects = [eig[i][1] for i in range(n_scans)]"
   ]
  },
  {
   "cell_type": "code",
   "execution_count": null,
   "metadata": {},
   "outputs": [],
   "source": [
    "# Plot Eigenvalues\n",
    "\n",
    "r_cutoff = 0.5\n",
    "\n",
    "x = np.real(np.asarray(e_vals).flatten())\n",
    "y = np.imag(np.asarray(e_vals).flatten())\n",
    "\n",
    "unit_circle = plt.Circle((0,0), radius=1, color=colors[1], fill=False)\n",
    "inner_circle = plt.Circle((0,0), radius=r_cutoff, color=colors[2], fill=False)\n",
    "\n",
    "\n",
    "fig, ax = plt.subplots(figsize=(46,16))\n",
    "ax.scatter(x, y, s=1, color=colors[0])\n",
    "\n",
    "ax.axhline(y=0, color = 'k', linewidth=0.5)\n",
    "ax.axvline(x=0, color = 'k', linewidth=0.5)\n",
    "\n",
    "ax.add_patch(unit_circle)\n",
    "ax.add_patch(inner_circle)\n",
    "\n",
    "ax.set_xlabel('Real')\n",
    "ax.set_ylabel('Imaginary')\n",
    "ax.set_aspect('equal')\n",
    "\n",
    "ax.plot()\n",
    "\n",
    "plt.suptitle('Eigenvalues')"
   ]
  },
  {
   "cell_type": "code",
   "execution_count": null,
   "metadata": {},
   "outputs": [],
   "source": [
    "# Find the intrisic dimensionality of the dynamics\n",
    "\n",
    "e_vals_magnitudes = np.abs(np.asarray(e_vals).flatten()) # find magnitude of e.vals\n",
    "n_sig_evals = np.sum(e_vals_magnitudes > r_cutoff) # find number of e.vals with mag > r_cutoff\n",
    "intrinsic_dim = n_sig_evals / (n_scans * n_disc_states) # find intrinsic dimensionality of dynamics\n",
    "print('intrinsic dimensionality =',intrinsic_dim)"
   ]
  },
  {
   "cell_type": "code",
   "execution_count": null,
   "metadata": {},
   "outputs": [],
   "source": [
    "int(intrinsic_dim)"
   ]
  },
  {
   "cell_type": "code",
   "execution_count": null,
   "metadata": {},
   "outputs": [],
   "source": [
    "# Global parameters\n",
    "T = data.shape[0]\n",
    "K = 5\n",
    "D_obs = data.shape[1]\n",
    "D_latent = 17 #int(intrinsic_dim)\n",
    "n_scans = data.shape[2]\n",
    "# D_latent = 18 #Typical output"
   ]
  },
  {
   "cell_type": "code",
   "execution_count": null,
   "metadata": {},
   "outputs": [],
   "source": [
    "training_fraction = .6\n",
    "validation_fraction = .2\n",
    "training_index = int(training_fraction * n_scans)\n",
    "validation_index = int(training_index + validation_fraction * n_scans)\n",
    "\n",
    "training_data = np.swapaxes(np.hstack(data[:,:,:training_index]),0,1)\n",
    "validation_data = np.swapaxes(np.hstack(data[:,:,training_index:validation_index]),0,1)\n",
    "test_data = np.swapaxes(np.hstack(data[:,:,validation_index:]),0,1)"
   ]
  },
  {
   "cell_type": "code",
   "execution_count": null,
   "metadata": {},
   "outputs": [],
   "source": [
    "training_data.shape"
   ]
  },
  {
   "cell_type": "code",
   "execution_count": null,
   "metadata": {},
   "outputs": [],
   "source": [
    "# Fit an rSLDS with its default initialization, using Laplace-EM with a structured variational posterior\n",
    "\n",
    "rslds = ssm.SLDS(D_obs, K, D_latent,\n",
    "             transitions=\"recurrent_only\",\n",
    "             dynamics=\"diagonal_gaussian\",\n",
    "             emissions=\"gaussian_orthog\",\n",
    "             single_subspace=True)\n",
    "rslds.initialize(training_data)\n",
    "q_elbos_lem, q_lem = rslds.fit(training_data, method=\"laplace_em\",\n",
    "                               variational_posterior=\"structured_meanfield\",\n",
    "                               initialize=False, num_iters=3, alpha=0.0)\n",
    "xhat_lem = q_lem.mean_continuous_states[0]\n",
    "zhat_lem = rslds.most_likely_states(xhat_lem, training_data)\n",
    "\n",
    "# store rslds\n",
    "rslds_lem = copy.deepcopy(rslds)"
   ]
  },
  {
   "cell_type": "code",
   "execution_count": null,
   "metadata": {},
   "outputs": [],
   "source": [
    "# Plot the ELBOs\n",
    "\n",
    "q_elbos_lem\n",
    "plt.plot(q_elbos_lem, label=\"Laplace-EM: Structured Variational Posterior\")\n",
    "plt.xlabel(\"Iteration\")\n",
    "plt.ylabel(\"ELBO\")\n",
    "plt.legend(bbox_to_anchor=(1.0,1.0))\n",
    "plt.title(\"Convergence for learning an SLDS\")\n",
    "plt.show()"
   ]
  },
  {
   "cell_type": "code",
   "execution_count": null,
   "metadata": {},
   "outputs": [],
   "source": [
    "# Compute the approximate posterior over latent and continuous\n",
    "# states for the new data under the current model parameters.\n",
    "elbos, posterior = rslds.approximate_posterior(validation_data,\n",
    "                                              method=\"laplace_em\",\n",
    "                                              variational_posterior=\"structured_meanfield\",\n",
    "                                              num_iters=3)\n",
    "\n",
    "# Verify that the ELBO increases during fitting. We don't expect a substantial increase:\n",
    "# we are updating the estimate of the latent states but we are not changing model params.\n",
    "plt.plot(elbos)\n",
    "plt.xlabel(\"Iteration\")\n",
    "plt.ylabel(\"ELBO\")\n",
    "plt.show()"
   ]
  },
  {
   "cell_type": "code",
   "execution_count": null,
   "metadata": {},
   "outputs": [],
   "source": [
    "x_est = posterior.mean_continuous_states[0]\n",
    "z_est = rslds.most_likely_states(x_est, validation_data)"
   ]
  },
  {
   "cell_type": "code",
   "execution_count": null,
   "metadata": {},
   "outputs": [],
   "source": [
    "def mse(ts1, ts2):\n",
    "    return(np.mean((ts1 - ts2)**2))\n",
    "\n",
    "def mae(ts1, ts2):\n",
    "    return(np.mean(np.abs(ts1 - ts2)))\n",
    "    "
   ]
  },
  {
   "cell_type": "code",
   "execution_count": null,
   "metadata": {},
   "outputs": [],
   "source": [
    "# Model + Noise\n",
    "\n",
    "A = rslds.dynamics.As\n",
    "b = rslds.dynamics.bs\n",
    "cov = rslds.dynamics.Sigmas\n",
    "n_gen = 1\n",
    "n_val_frames = validation_data.shape[0]\n",
    "\n",
    "MSE = np.zeros(n_gen)\n",
    "MAE = np.zeros(n_gen)\n",
    "\n",
    "for j in range(n_gen):\n",
    "    x = [x_est[0]]\n",
    "    \n",
    "    for i in range(n_val_frames-1):\n",
    "        k = z_est[i]\n",
    "        w = np.random.multivariate_normal(np.zeros(D_latent), cov[k])\n",
    "        x_i = A[k]@x[-1] + b[k] + w\n",
    "        x.append(x_i)\n",
    "    \n",
    "    x_gen = np.vstack(x)\n",
    "    MSE[j] = mse(x_est, x_gen)\n",
    "    MAE[j] = mae(x_est, x_gen)"
   ]
  },
  {
   "cell_type": "code",
   "execution_count": null,
   "metadata": {},
   "outputs": [],
   "source": [
    "print('Mean Squared Error:' ,MSE[0])"
   ]
  },
  {
   "cell_type": "code",
   "execution_count": null,
   "metadata": {},
   "outputs": [],
   "source": [
    "title_str = [\"$x_{%i}$\" %i for i in range(D_latent)]\n",
    "fig, axs = plt.subplots(D_latent,1, figsize=(14*30,2*D_latent))\n",
    "for (d, ax) in enumerate(axs):\n",
    "    ax.plot(x_gen[:,d] + 4 * d, '-', color=colors[0], label=\"Generated\" if d==0 else None)\n",
    "    ax.plot(x_est[:,d] + 4 * d, '-', color=colors[2], label=\"Estimated\" if d==0 else None)\n",
    "    ax.set_yticks([])\n",
    "    ax.set_title(title_str[d], loc=\"left\", y=0.5, x=-0.03)\n",
    "axs[0].set_xticks([])\n",
    "axs[0].legend(loc=\"upper right\")\n",
    "\n",
    "plt.suptitle(\"Generated and Estimated Continuous States\", va=\"bottom\")\n",
    "plt.tight_layout()"
   ]
  },
  {
   "cell_type": "code",
   "execution_count": null,
   "metadata": {},
   "outputs": [],
   "source": [
    "cum_err_mn = [mse(x_est[:t], x_gen[:t]) for t in range(1,100)]\n",
    "cum_err_mn_prime = np.gradient(cum_err_mn)"
   ]
  },
  {
   "cell_type": "code",
   "execution_count": null,
   "metadata": {},
   "outputs": [],
   "source": [
    "fig, axs = plt.subplots(1, 2, figsize=(16,4))\n",
    "axs[0].plot(cum_err_mn)\n",
    "axs[1].plot(cum_err_mn_prime)\n",
    "axs[0].set_xlabel('Time Step')\n",
    "axs[1].set_xlabel('Time Step')\n",
    "axs[0].set_ylabel('MSE')\n",
    "axs[1].set_ylabel('d/dt MSE')\n",
    "\n",
    "plt.suptitle('Model + Noise')"
   ]
  },
  {
   "cell_type": "code",
   "execution_count": null,
   "metadata": {},
   "outputs": [],
   "source": [
    "# Model Only\n",
    "\n",
    "A = rslds.dynamics.As\n",
    "b = rslds.dynamics.bs\n",
    "cov = rslds.dynamics.Sigmas\n",
    "n_gen = 1\n",
    "n_val_frames = validation_data.shape[0]\n",
    "\n",
    "MSE = np.zeros(n_gen)\n",
    "MAE = np.zeros(n_gen)\n",
    "\n",
    "for j in range(n_gen):\n",
    "    x = [x_est[0]]\n",
    "    \n",
    "    for i in range(n_val_frames-1):\n",
    "        k = z_est[i]\n",
    "        x_i = A[k]@x[-1] + b[k]\n",
    "        x.append(x_i)\n",
    "    \n",
    "    x_gen = np.vstack(x)\n",
    "    MSE[j] = mse(x_est, x_gen)\n",
    "    MAE[j] = mae(x_est, x_gen)"
   ]
  },
  {
   "cell_type": "code",
   "execution_count": null,
   "metadata": {},
   "outputs": [],
   "source": [
    "correlations = [np.correlate(x_gen[i], x_est[i])/np.sqrt(np.mean((x_gen[i]-x_est[i])**2)) for i in range(D_latent)]"
   ]
  },
  {
   "cell_type": "code",
   "execution_count": null,
   "metadata": {},
   "outputs": [],
   "source": [
    "correlations"
   ]
  },
  {
   "cell_type": "code",
   "execution_count": null,
   "metadata": {},
   "outputs": [],
   "source": [
    "plt.imshow(np.corrcoef(x_est.T, x_gen.T), cmap='coolwarm')\n",
    "plt.colorbar()"
   ]
  },
  {
   "cell_type": "code",
   "execution_count": null,
   "metadata": {},
   "outputs": [],
   "source": [
    "print('Mean Squared Error:' ,MSE[0])"
   ]
  },
  {
   "cell_type": "code",
   "execution_count": null,
   "metadata": {},
   "outputs": [],
   "source": [
    "title_str = [\"$x_{%i}$\" %i for i in range(D_latent)]\n",
    "fig, axs = plt.subplots(D_latent,1, figsize=(14*30,2*D_latent))\n",
    "for (d, ax) in enumerate(axs):\n",
    "    ax.plot(x_gen[:,d] + 4 * d, '-', color=colors[0], label=\"Generated\" if d==0 else None)\n",
    "    ax.plot(x_est[:,d] + 4 * d, '-', color=colors[2], label=\"Estimated\" if d==0 else None)\n",
    "    ax.set_yticks([])\n",
    "    ax.set_title(title_str[d], loc=\"left\", y=0.5, x=-0.03)\n",
    "axs[0].set_xticks([])\n",
    "axs[0].legend(loc=\"upper right\")\n",
    "\n",
    "plt.suptitle(\"Generated and Estimated Continuous States\", va=\"bottom\")\n",
    "plt.tight_layout()"
   ]
  },
  {
   "cell_type": "code",
   "execution_count": null,
   "metadata": {},
   "outputs": [],
   "source": [
    "cum_err_m = [mse(x_est[:t], x_gen[:t]) for t in range(1,100)]\n",
    "cum_err_m_prime = np.gradient(cum_err_m)"
   ]
  },
  {
   "cell_type": "code",
   "execution_count": null,
   "metadata": {},
   "outputs": [],
   "source": [
    "fig, axs = plt.subplots(1, 2, figsize=(16,4))\n",
    "axs[0].plot(cum_err_m)\n",
    "axs[1].plot(cum_err_m_prime)\n",
    "axs[0].set_xlabel('Time Step')\n",
    "axs[1].set_xlabel('Time Step')\n",
    "axs[0].set_ylabel('MSE')\n",
    "axs[1].set_ylabel('d/dt MSE')\n",
    "\n",
    "plt.suptitle('Model Only')"
   ]
  },
  {
   "cell_type": "code",
   "execution_count": null,
   "metadata": {},
   "outputs": [],
   "source": [
    "# Noise Only\n",
    "\n",
    "A = rslds.dynamics.As\n",
    "b = rslds.dynamics.bs\n",
    "cov = rslds.dynamics.Sigmas\n",
    "n_gen = 1\n",
    "n_val_frames = validation_data.shape[0]\n",
    "\n",
    "MSE = np.zeros(n_gen)\n",
    "MAE = np.zeros(n_gen)\n",
    "\n",
    "for j in range(n_gen):\n",
    "    x = [x_est[0]]\n",
    "    \n",
    "    for i in range(n_val_frames-1):\n",
    "        k = z_est[i]\n",
    "        w = np.random.multivariate_normal(np.zeros(D_latent), cov[k])\n",
    "        x_i = w\n",
    "        x.append(x_i)\n",
    "    \n",
    "    x_gen = np.vstack(x)\n",
    "    MSE[j] = mse(x_est, x_gen)\n",
    "    MAE[j] = mae(x_est, x_gen)"
   ]
  },
  {
   "cell_type": "code",
   "execution_count": null,
   "metadata": {},
   "outputs": [],
   "source": [
    "print('Mean Squared Error:' ,MSE[0])"
   ]
  },
  {
   "cell_type": "code",
   "execution_count": null,
   "metadata": {},
   "outputs": [],
   "source": [
    "cum_err_n = [mse(x_est[:t], x_gen[:t]) for t in range(1,100)]\n",
    "cum_err_n_prime = np.gradient(cum_err_n)"
   ]
  },
  {
   "cell_type": "code",
   "execution_count": null,
   "metadata": {},
   "outputs": [],
   "source": [
    "fig, axs = plt.subplots(1, 2, figsize=(16,4))\n",
    "axs[0].plot(cum_err_n)\n",
    "axs[1].plot(cum_err_n_prime)\n",
    "axs[0].set_xlabel('Time Step')\n",
    "axs[1].set_xlabel('Time Step')\n",
    "axs[0].set_ylabel('MSE')\n",
    "axs[1].set_ylabel('d/dt MSE')\n",
    "\n",
    "plt.suptitle('Noise Only')"
   ]
  },
  {
   "cell_type": "code",
   "execution_count": null,
   "metadata": {},
   "outputs": [],
   "source": [
    "fig, axs = plt.subplots(1, 2, figsize=(20,6))\n",
    "axs[0].plot(cum_err_n, label='Noise Only')\n",
    "axs[0].plot(cum_err_mn, label='Model + Noise')\n",
    "axs[0].plot(cum_err_m, label='Model Only')\n",
    "axs[1].plot(cum_err_n_prime, label='Noise Only')\n",
    "axs[1].plot(cum_err_mn_prime, label='Model + Noise')\n",
    "axs[1].plot(cum_err_m_prime, label='Model Only')\n",
    "axs[0].legend()\n",
    "axs[1].legend()\n",
    "axs[0].set_xlabel('Time Step')\n",
    "axs[1].set_xlabel('Time Step')\n",
    "axs[0].set_ylabel('MSE')\n",
    "axs[1].set_ylabel('d/dt MSE')\n",
    "\n",
    "plt.suptitle('MSE Comparison')"
   ]
  },
  {
   "cell_type": "code",
   "execution_count": null,
   "metadata": {},
   "outputs": [],
   "source": [
    "plt.figure(figsize=(12*30,2))\n",
    "plt.imshow(z_est[None,:], aspect='auto', cmap=cmap)\n",
    "plt.title('fMRI Inferred States')\n",
    "plt.xlabel('Frames')\n",
    "ax = plt.gca()\n",
    "ax.set_yticks([])\n",
    "plt.savefig('scan_%i' % (i))\n",
    "plt.show()"
   ]
  },
  {
   "cell_type": "code",
   "execution_count": null,
   "metadata": {},
   "outputs": [],
   "source": [
    "difference = [z_est[i] == z_est[i+1] for i in range(len(z_est)-1)]"
   ]
  },
  {
   "cell_type": "code",
   "execution_count": null,
   "metadata": {},
   "outputs": [],
   "source": [
    "runs = []\n",
    "counter = 0\n",
    "for d in difference:\n",
    "    if d == True:\n",
    "        counter += 1\n",
    "    else:\n",
    "        runs.append(counter)\n",
    "        counter = 0\n",
    "        \n",
    "n = len(runs)\n",
    "runs = [runs[i] + 1 for i in range(n)]"
   ]
  },
  {
   "cell_type": "code",
   "execution_count": null,
   "metadata": {},
   "outputs": [],
   "source": [
    " see plt.hist(runs)\n",
    "plt.title('Run Length (time step)')"
   ]
  },
  {
   "cell_type": "code",
   "execution_count": null,
   "metadata": {},
   "outputs": [],
   "source": [
    "m = np.max(runs)\n",
    "weights = [sum([runs[i] == j for i in range(n)]) for j in range(1,m+1)]\n",
    "mass = np.asarray(range(1,m+1)) * np.asarray(weights)"
   ]
  },
  {
   "cell_type": "code",
   "execution_count": null,
   "metadata": {},
   "outputs": [],
   "source": [
    "plt.scatter(range(1,m+1), mass)\n",
    "plt.title('Time Spent in States by Length')"
   ]
  }
 ],
 "metadata": {
  "@webio": {
   "lastCommId": null,
   "lastKernelId": null
  },
  "kernelspec": {
   "display_name": "Python 3",
   "language": "python",
   "name": "python3"
  },
  "language_info": {
   "codemirror_mode": {
    "name": "ipython",
    "version": 3
   },
   "file_extension": ".py",
   "mimetype": "text/x-python",
   "name": "python",
   "nbconvert_exporter": "python",
   "pygments_lexer": "ipython3",
   "version": "3.8.8"
  }
 },
 "nbformat": 4,
 "nbformat_minor": 4
}
